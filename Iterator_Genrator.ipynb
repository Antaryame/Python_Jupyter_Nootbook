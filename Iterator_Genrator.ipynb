{
 "cells": [
  {
   "cell_type": "code",
   "execution_count": 1,
   "id": "55a512b1-300a-4430-92ea-87ccd9076db8",
   "metadata": {},
   "outputs": [
    {
     "data": {
      "text/plain": [
       "[1, 2, 3, 4]"
      ]
     },
     "execution_count": 1,
     "metadata": {},
     "output_type": "execute_result"
    }
   ],
   "source": [
    "list1=[1,2,3,4]  # Global Variable\n",
    "\n",
    "list1"
   ]
  },
  {
   "cell_type": "code",
   "execution_count": 2,
   "id": "4ef199c5-cc3c-458f-b81c-1ab5a730dc7e",
   "metadata": {},
   "outputs": [],
   "source": [
    "def test1(*args):\n",
    "    l=[]  # Local variable\n",
    "    for i in args:\n",
    "        if type(i)== int:\n",
    "            l.append(i)\n",
    "\n",
    "    return l\n",
    "\n"
   ]
  },
  {
   "cell_type": "code",
   "execution_count": 3,
   "id": "bca2236b-0532-4d86-b8b2-7763df5298e8",
   "metadata": {},
   "outputs": [
    {
     "data": {
      "text/plain": [
       "[('odd', 1), ('Even', 2), ('odd', 3), ('Even', 4)]"
      ]
     },
     "execution_count": 3,
     "metadata": {},
     "output_type": "execute_result"
    }
   ],
   "source": [
    "[('Even',i) if i%2==0 else ('odd',i) for i in list1]"
   ]
  },
  {
   "cell_type": "markdown",
   "id": "ac4b4c29-9c7a-4c4c-be9e-21fe6c1f7935",
   "metadata": {},
   "source": [
    "# Iterator , Iterable"
   ]
  },
  {
   "cell_type": "raw",
   "id": "6f372754-3e0a-4da8-8a62-a7b208116fe6",
   "metadata": {},
   "source": [
    "'int' object is not iterable\n",
    "'str' object is iterable"
   ]
  },
  {
   "cell_type": "code",
   "execution_count": 4,
   "id": "345cd9a8-5b42-4b3e-81b3-1da940593b46",
   "metadata": {},
   "outputs": [
    {
     "name": "stdout",
     "output_type": "stream",
     "text": [
      "D\n",
      "a\n",
      "t\n",
      "a\n"
     ]
    }
   ],
   "source": [
    "b='Data'\n",
    "\n",
    "for i in b:\n",
    "    print(i)"
   ]
  },
  {
   "cell_type": "code",
   "execution_count": 5,
   "id": "b6fc178e-ba32-4745-8a37-b1f1b7abbc8c",
   "metadata": {},
   "outputs": [
    {
     "ename": "TypeError",
     "evalue": "'str' object is not an iterator",
     "output_type": "error",
     "traceback": [
      "\u001b[1;31m---------------------------------------------------------------------------\u001b[0m",
      "\u001b[1;31mTypeError\u001b[0m                                 Traceback (most recent call last)",
      "Cell \u001b[1;32mIn[5], line 1\u001b[0m\n\u001b[1;32m----> 1\u001b[0m \u001b[38;5;28mnext\u001b[39m(b)\n",
      "\u001b[1;31mTypeError\u001b[0m: 'str' object is not an iterator"
     ]
    }
   ],
   "source": [
    "next(b)"
   ]
  },
  {
   "cell_type": "raw",
   "id": "206444c0-f951-4816-ae6e-762d54f209e9",
   "metadata": {},
   "source": [
    "'str' object is not an iterator"
   ]
  },
  {
   "cell_type": "code",
   "execution_count": 7,
   "id": "e34a9c71-d5ed-4140-9a56-f0fd590a62ef",
   "metadata": {},
   "outputs": [],
   "source": [
    "b = iter(b)"
   ]
  },
  {
   "cell_type": "code",
   "execution_count": 8,
   "id": "bc5c7ba9-035f-48ec-b9fe-54d2ab627b27",
   "metadata": {},
   "outputs": [
    {
     "data": {
      "text/plain": [
       "'D'"
      ]
     },
     "execution_count": 8,
     "metadata": {},
     "output_type": "execute_result"
    }
   ],
   "source": [
    "next(b)"
   ]
  },
  {
   "cell_type": "code",
   "execution_count": 9,
   "id": "c093d91c-07e5-4cda-b154-f1e5e798fb39",
   "metadata": {},
   "outputs": [
    {
     "data": {
      "text/plain": [
       "'a'"
      ]
     },
     "execution_count": 9,
     "metadata": {},
     "output_type": "execute_result"
    }
   ],
   "source": [
    "next(b)"
   ]
  },
  {
   "cell_type": "code",
   "execution_count": 10,
   "id": "9f4b6995-d19b-42e6-a271-29abf5fc1146",
   "metadata": {},
   "outputs": [
    {
     "data": {
      "text/plain": [
       "'t'"
      ]
     },
     "execution_count": 10,
     "metadata": {},
     "output_type": "execute_result"
    }
   ],
   "source": [
    "next(b)"
   ]
  },
  {
   "cell_type": "code",
   "execution_count": 11,
   "id": "e268f59a-1092-4c80-bf5f-aaea1030eab0",
   "metadata": {},
   "outputs": [
    {
     "data": {
      "text/plain": [
       "'a'"
      ]
     },
     "execution_count": 11,
     "metadata": {},
     "output_type": "execute_result"
    }
   ],
   "source": [
    "next(b)"
   ]
  },
  {
   "cell_type": "raw",
   "id": "1677cef8-abd1-4568-8f6a-8dab0e2ad7a3",
   "metadata": {},
   "source": [
    "int object -> not iterable\n",
    "\n",
    "str object -> iterable\n",
    "convert iterable object to iterator by using iter() function"
   ]
  },
  {
   "cell_type": "code",
   "execution_count": null,
   "id": "0d51e1c7-a949-439f-9bcb-1b0de6dd9e90",
   "metadata": {},
   "outputs": [],
   "source": []
  }
 ],
 "metadata": {
  "kernelspec": {
   "display_name": "Python 3 (ipykernel)",
   "language": "python",
   "name": "python3"
  },
  "language_info": {
   "codemirror_mode": {
    "name": "ipython",
    "version": 3
   },
   "file_extension": ".py",
   "mimetype": "text/x-python",
   "name": "python",
   "nbconvert_exporter": "python",
   "pygments_lexer": "ipython3",
   "version": "3.11.7"
  }
 },
 "nbformat": 4,
 "nbformat_minor": 5
}
