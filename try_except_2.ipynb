{
 "cells": [
  {
   "cell_type": "code",
   "execution_count": 4,
   "id": "3745f4a7-de80-43c2-a0f1-b0e3b85a8654",
   "metadata": {},
   "outputs": [
    {
     "name": "stdin",
     "output_type": "stream",
     "text": [
      "Enter a number 0\n"
     ]
    },
    {
     "name": "stdout",
     "output_type": "stream",
     "text": [
      "You cant divided by zero\n"
     ]
    }
   ],
   "source": [
    "try:\n",
    "    num =int(input(\"Enter a number\"))\n",
    "\n",
    "    result=10/num\n",
    "\n",
    "    print(result)\n",
    "except ValueError:\n",
    "    print(\"Plase write int value\")\n",
    "\n",
    "except ZeroDivisionError:\n",
    "    print(\"You cant divided by zero\")\n"
   ]
  },
  {
   "cell_type": "code",
   "execution_count": 7,
   "id": "e96f4b60-e840-4d9b-acad-0cf70edb1aff",
   "metadata": {},
   "outputs": [
    {
     "name": "stdout",
     "output_type": "stream",
     "text": [
      "5.0\n",
      "yes my result is 5.0\n"
     ]
    }
   ],
   "source": [
    "try:\n",
    "    num=10/2\n",
    "    print(num)\n",
    "\n",
    "except ZeroDivisionError:\n",
    "    print('you cant divided by zero')\n",
    "else:\n",
    "    print('yes my result is',num)"
   ]
  },
  {
   "cell_type": "code",
   "execution_count": null,
   "id": "cbb82403-0c29-437e-aef3-41c971a0a38c",
   "metadata": {},
   "outputs": [],
   "source": [
    "try:\n",
    "    num=10/2\n",
    "    print(num)\n",
    "\n",
    "except ZeroDivisionError:\n",
    "    print('you cant divided by zero')\n",
    "else:\n",
    "    print('yes my result is',num)\n",
    "\n",
    "finally:\n",
    "    print(\"my file is completed\")"
   ]
  }
 ],
 "metadata": {
  "kernelspec": {
   "display_name": "Python 3 (ipykernel)",
   "language": "python",
   "name": "python3"
  },
  "language_info": {
   "codemirror_mode": {
    "name": "ipython",
    "version": 3
   },
   "file_extension": ".py",
   "mimetype": "text/x-python",
   "name": "python",
   "nbconvert_exporter": "python",
   "pygments_lexer": "ipython3",
   "version": "3.11.7"
  }
 },
 "nbformat": 4,
 "nbformat_minor": 5
}
