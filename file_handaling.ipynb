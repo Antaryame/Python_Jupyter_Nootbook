{
 "cells": [
  {
   "cell_type": "code",
   "execution_count": 5,
   "id": "e2a9f063-d14a-4103-90eb-72b723161017",
   "metadata": {},
   "outputs": [
    {
     "name": "stdout",
     "output_type": "stream",
     "text": [
      " Volume in drive C has no label.\n",
      " Volume Serial Number is 9C49-1BC0\n",
      "\n",
      " Directory of C:\\Users\\user\\UIUX\n",
      "\n",
      "03-09-2024  17:33    <DIR>          .\n",
      "03-09-2024  17:22    <DIR>          ..\n",
      "03-09-2024  17:20    <DIR>          .ipynb_checkpoints\n",
      "03-09-2024  17:33             1,992 file_handaling.ipynb\n",
      "27-08-2024  17:58             5,248 Function_Lambada.ipynb\n",
      "28-08-2024  17:45             5,254 Iterator_Genrator.ipynb\n",
      "03-09-2024  16:14             4,826 logging.ipynb\n",
      "03-09-2024  17:35                43 test1.txt\n",
      "02-09-2024  18:10             2,437 testlog1.log\n",
      "03-09-2024  17:15             7,934 testlog2.log\n",
      "30-08-2024  17:57             3,224 try_except.ipynb\n",
      "02-09-2024  17:27             2,117 try_except_2.ipynb\n",
      "               9 File(s)         33,075 bytes\n",
      "               3 Dir(s)  38,622,212,096 bytes free\n"
     ]
    }
   ],
   "source": [
    "ls\n"
   ]
  },
  {
   "cell_type": "code",
   "execution_count": 4,
   "id": "04d45545-4e10-4187-8473-202b95a5bde2",
   "metadata": {},
   "outputs": [],
   "source": [
    "f=open('test1.txt', mode= 'w')\n",
    "\n",
    "f.write(\"This is my first line inside test1.txt file\")\n",
    "\n",
    "f.close()\n"
   ]
  }
 ],
 "metadata": {
  "kernelspec": {
   "display_name": "Python 3 (ipykernel)",
   "language": "python",
   "name": "python3"
  },
  "language_info": {
   "codemirror_mode": {
    "name": "ipython",
    "version": 3
   },
   "file_extension": ".py",
   "mimetype": "text/x-python",
   "name": "python",
   "nbconvert_exporter": "python",
   "pygments_lexer": "ipython3",
   "version": "3.11.7"
  }
 },
 "nbformat": 4,
 "nbformat_minor": 5
}
