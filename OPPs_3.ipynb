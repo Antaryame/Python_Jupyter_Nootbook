{
 "cells": [
  {
   "cell_type": "code",
   "execution_count": 1,
   "id": "bc968c55-0f00-4ebb-bd19-c83254ddd21a",
   "metadata": {},
   "outputs": [],
   "source": [
    "class test1():\n",
    "    def area(a):\n",
    "        return a* a"
   ]
  },
  {
   "cell_type": "code",
   "execution_count": 2,
   "id": "c99a44ef-b110-4d99-bf79-faccae4b3efd",
   "metadata": {},
   "outputs": [],
   "source": [
    "x=test1()"
   ]
  },
  {
   "cell_type": "code",
   "execution_count": 3,
   "id": "fc5d3fda-6097-4d09-b319-4abeaa170622",
   "metadata": {},
   "outputs": [
    {
     "ename": "TypeError",
     "evalue": "test1.area() takes 1 positional argument but 2 were given",
     "output_type": "error",
     "traceback": [
      "\u001b[1;31m---------------------------------------------------------------------------\u001b[0m",
      "\u001b[1;31mTypeError\u001b[0m                                 Traceback (most recent call last)",
      "Cell \u001b[1;32mIn[3], line 1\u001b[0m\n\u001b[1;32m----> 1\u001b[0m x\u001b[38;5;241m.\u001b[39marea(\u001b[38;5;241m10\u001b[39m)\n",
      "\u001b[1;31mTypeError\u001b[0m: test1.area() takes 1 positional argument but 2 were given"
     ]
    }
   ],
   "source": [
    "x.area(10)"
   ]
  },
  {
   "cell_type": "code",
   "execution_count": null,
   "id": "8fc93279-de53-47b8-8e2d-8065f93195a9",
   "metadata": {},
   "outputs": [],
   "source": [
    "# class --> parent class --> properies to --> child class"
   ]
  },
  {
   "cell_type": "code",
   "execution_count": 4,
   "id": "adc1a4f2-c462-4c2e-9761-a0665987ed09",
   "metadata": {},
   "outputs": [],
   "source": [
    "class king:\n",
    "    def __init__(self,name,age,war_win,total_war):\n",
    "        self.name=name\n",
    "        self.age=age\n",
    "        self.war_win=war_win\n",
    "        self.total_war=total_war\n",
    "    def score(self):\n",
    "        return (self.war_win/self.total_war)*100\n",
    "\n",
    "class prince(king):\n",
    "    def prince_skills(self):\n",
    "        return \"prince is well in horse riding\"\n",
    "    \n",
    "            "
   ]
  },
  {
   "cell_type": "code",
   "execution_count": 5,
   "id": "36e4e783-fa0f-4af3-9c49-b97ce1ee4551",
   "metadata": {},
   "outputs": [],
   "source": [
    "k=king(\"Rock\",54,76,100)"
   ]
  },
  {
   "cell_type": "code",
   "execution_count": 6,
   "id": "f3e8adeb-21c2-43d2-aec5-57d3432ed7af",
   "metadata": {},
   "outputs": [
    {
     "data": {
      "text/plain": [
       "76.0"
      ]
     },
     "execution_count": 6,
     "metadata": {},
     "output_type": "execute_result"
    }
   ],
   "source": [
    "k.score()"
   ]
  },
  {
   "cell_type": "code",
   "execution_count": 7,
   "id": "e859f744-451a-4161-9917-7e8636c43b2b",
   "metadata": {},
   "outputs": [],
   "source": [
    "p=prince(\"Rock\",54,76,100)"
   ]
  },
  {
   "cell_type": "code",
   "execution_count": 8,
   "id": "54806fd4-6e18-4c18-bfd8-d1b93965b3f9",
   "metadata": {},
   "outputs": [
    {
     "data": {
      "text/plain": [
       "'prince is well in horse riding'"
      ]
     },
     "execution_count": 8,
     "metadata": {},
     "output_type": "execute_result"
    }
   ],
   "source": [
    "p.prince_skills()"
   ]
  },
  {
   "cell_type": "code",
   "execution_count": 9,
   "id": "d1521038-e750-40a3-8cc5-f3bf98753004",
   "metadata": {},
   "outputs": [
    {
     "data": {
      "text/plain": [
       "76.0"
      ]
     },
     "execution_count": 9,
     "metadata": {},
     "output_type": "execute_result"
    }
   ],
   "source": [
    "p.score()"
   ]
  },
  {
   "cell_type": "code",
   "execution_count": 10,
   "id": "79c715c6-49ea-4f8b-a5fa-a920a72c34a0",
   "metadata": {},
   "outputs": [
    {
     "data": {
      "text/plain": [
       "54"
      ]
     },
     "execution_count": 10,
     "metadata": {},
     "output_type": "execute_result"
    }
   ],
   "source": [
    "k.age"
   ]
  },
  {
   "cell_type": "code",
   "execution_count": 11,
   "id": "76ad03c7-74bb-4016-8df5-0e19701dbacb",
   "metadata": {},
   "outputs": [],
   "source": [
    "k.age=89"
   ]
  },
  {
   "cell_type": "code",
   "execution_count": 12,
   "id": "4cc3f6f9-4157-4af7-9407-5fbaa80571a2",
   "metadata": {},
   "outputs": [
    {
     "data": {
      "text/plain": [
       "89"
      ]
     },
     "execution_count": 12,
     "metadata": {},
     "output_type": "execute_result"
    }
   ],
   "source": [
    "k.age"
   ]
  },
  {
   "cell_type": "code",
   "execution_count": 13,
   "id": "b8d1b26e-b185-4c5c-8b51-07b83336dcec",
   "metadata": {},
   "outputs": [],
   "source": [
    "k.name='Alex'"
   ]
  },
  {
   "cell_type": "code",
   "execution_count": 14,
   "id": "4a7ad22d-6e8e-4337-a7ec-678014520771",
   "metadata": {},
   "outputs": [
    {
     "data": {
      "text/plain": [
       "'Alex'"
      ]
     },
     "execution_count": 14,
     "metadata": {},
     "output_type": "execute_result"
    }
   ],
   "source": [
    "k.name"
   ]
  },
  {
   "cell_type": "markdown",
   "id": "29acd757-b539-4bf9-9aba-283fcae1a372",
   "metadata": {},
   "source": [
    "# Polymorphism in Python\n"
   ]
  },
  {
   "cell_type": "code",
   "execution_count": 18,
   "id": "85223aa0-6c72-4a6c-bb65-fa2fbf83284a",
   "metadata": {},
   "outputs": [],
   "source": [
    "class Dog:\n",
    "    def sound(self):\n",
    "        return \"Bhauuu Bhauuu\"\n",
    "\n",
    "class Cat:\n",
    "    def sound(self):\n",
    "        return \"Meow Meow\""
   ]
  },
  {
   "cell_type": "markdown",
   "id": "98e63ccb-b901-4491-b57c-ffce7efbd253",
   "metadata": {},
   "source": [
    "** Actionable Function **"
   ]
  },
  {
   "cell_type": "code",
   "execution_count": 19,
   "id": "70325807-6c89-48d7-8f0e-362827ec3b41",
   "metadata": {},
   "outputs": [],
   "source": [
    "def animal_sound(animal):\n",
    "    print(animal.sound())"
   ]
  },
  {
   "cell_type": "code",
   "execution_count": 20,
   "id": "7d920f27-3ab4-4f2e-9afc-7df5746610f8",
   "metadata": {},
   "outputs": [
    {
     "name": "stdout",
     "output_type": "stream",
     "text": [
      "Bhauuu Bhauuu\n"
     ]
    }
   ],
   "source": [
    "animal_sound(Dog())"
   ]
  },
  {
   "cell_type": "code",
   "execution_count": 21,
   "id": "03863f3f-2af6-4f9d-8513-9f891bd33ab8",
   "metadata": {},
   "outputs": [
    {
     "name": "stdout",
     "output_type": "stream",
     "text": [
      "Meow Meow\n"
     ]
    }
   ],
   "source": [
    "animal_sound(Cat())"
   ]
  },
  {
   "cell_type": "code",
   "execution_count": 22,
   "id": "728cf0f6-d8ac-42b3-affb-ec80655551f2",
   "metadata": {},
   "outputs": [],
   "source": [
    "class Social_media:\n",
    "    def share_store(self):\n",
    "        return \"Store is shared on social media\"\n",
    "\n",
    "class Facebook:\n",
    "    def share_store(self):\n",
    "        return \"Store Share on FaceBokk\"\n",
    "\n",
    "class Instagram:\n",
    "    def share_store(self):\n",
    "        return \"Store Share on Instagram\""
   ]
  },
  {
   "cell_type": "code",
   "execution_count": null,
   "id": "01df8709-f878-43fa-9285-24b53333acd8",
   "metadata": {},
   "outputs": [],
   "source": [
    "# many class But same Funtion "
   ]
  },
  {
   "cell_type": "markdown",
   "id": "39be1ada-e5e4-40b6-80a4-701b2097d72f",
   "metadata": {},
   "source": [
    "** Abstraction **"
   ]
  },
  {
   "cell_type": "code",
   "execution_count": 24,
   "id": "67d01ece-9a65-41d3-9751-8f12b87700f7",
   "metadata": {},
   "outputs": [],
   "source": [
    "from abc import ABC,abstractmethod"
   ]
  },
  {
   "cell_type": "code",
   "execution_count": 25,
   "id": "ea45a9d9-aa18-4bc3-b362-b0ed060ee78e",
   "metadata": {},
   "outputs": [],
   "source": [
    "class Animal(ABC):\n",
    "    @abstractmethod\n",
    "    def sound(self):\n",
    "        pass # Abstract Method\n",
    "\n",
    "class Dog(Animal):\n",
    "    def sound(self):\n",
    "        return 'Bhauuu Bhauuu'"
   ]
  },
  {
   "cell_type": "code",
   "execution_count": 27,
   "id": "97eb0380-0ab3-4e66-8e66-e6d2526c1216",
   "metadata": {},
   "outputs": [],
   "source": [
    "tommy=Dog()"
   ]
  },
  {
   "cell_type": "code",
   "execution_count": 28,
   "id": "b663aa71-92f5-4769-80ca-000e74327bf4",
   "metadata": {},
   "outputs": [
    {
     "data": {
      "text/plain": [
       "'Bhauuu Bhauuu'"
      ]
     },
     "execution_count": 28,
     "metadata": {},
     "output_type": "execute_result"
    }
   ],
   "source": [
    "tommy.sound()"
   ]
  },
  {
   "cell_type": "code",
   "execution_count": null,
   "id": "d95db8e5-1af7-4f4c-8968-1dcb002f9338",
   "metadata": {},
   "outputs": [],
   "source": [
    "class Institte:\n",
    "    def unique(self,name,rollno):\n",
    "        pass\n",
    "\n",
    "    def unique(self,techname,techid):\n",
    "        pass\n",
    "\n"
   ]
  }
 ],
 "metadata": {
  "kernelspec": {
   "display_name": "Python 3 (ipykernel)",
   "language": "python",
   "name": "python3"
  },
  "language_info": {
   "codemirror_mode": {
    "name": "ipython",
    "version": 3
   },
   "file_extension": ".py",
   "mimetype": "text/x-python",
   "name": "python",
   "nbconvert_exporter": "python",
   "pygments_lexer": "ipython3",
   "version": "3.11.7"
  }
 },
 "nbformat": 4,
 "nbformat_minor": 5
}
