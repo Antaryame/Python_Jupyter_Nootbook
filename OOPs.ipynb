{
 "cells": [
  {
   "cell_type": "code",
   "execution_count": 1,
   "id": "222c58e8-bb65-4129-850b-e61a3ddad1d5",
   "metadata": {},
   "outputs": [],
   "source": [
    "class car:\n",
    "    def __init__(self,color,type,Engine,Reading):#constructor --> way to pass data to class\n",
    "        self.color=color\n",
    "        self.type=type\n",
    "        self.Engine=Engine\n",
    "        self.Reading=Reading\n",
    "        "
   ]
  },
  {
   "cell_type": "code",
   "execution_count": null,
   "id": "a01f5848-4436-4d2a-90a5-5e264f11a58f",
   "metadata": {},
   "outputs": [],
   "source": [
    "#classes of bluePrint of Object"
   ]
  },
  {
   "cell_type": "code",
   "execution_count": 2,
   "id": "ce7288ee-a1a5-44d9-aa26-d9d69bf7f9e4",
   "metadata": {},
   "outputs": [],
   "source": [
    "Nexon=car('Red','SUV','Petrol',1500) # Nexon is a Object"
   ]
  },
  {
   "cell_type": "code",
   "execution_count": 3,
   "id": "c9ef7733-6a69-4938-909c-13d02ee447f1",
   "metadata": {},
   "outputs": [
    {
     "data": {
      "text/plain": [
       "'Red'"
      ]
     },
     "execution_count": 3,
     "metadata": {},
     "output_type": "execute_result"
    }
   ],
   "source": [
    "Nexon.color"
   ]
  },
  {
   "cell_type": "code",
   "execution_count": 4,
   "id": "b1d32803-544c-4178-b1c9-1f7fea195962",
   "metadata": {},
   "outputs": [
    {
     "data": {
      "text/plain": [
       "'SUV'"
      ]
     },
     "execution_count": 4,
     "metadata": {},
     "output_type": "execute_result"
    }
   ],
   "source": [
    "Nexon.type"
   ]
  },
  {
   "cell_type": "code",
   "execution_count": 5,
   "id": "8092fa3c-b943-4b2d-9e7a-eb4c202109d8",
   "metadata": {},
   "outputs": [
    {
     "data": {
      "text/plain": [
       "1500"
      ]
     },
     "execution_count": 5,
     "metadata": {},
     "output_type": "execute_result"
    }
   ],
   "source": [
    "Nexon.Reading"
   ]
  },
  {
   "cell_type": "code",
   "execution_count": 6,
   "id": "6b3d6f4b-b3a7-4fda-aaa2-af44b347b699",
   "metadata": {},
   "outputs": [
    {
     "data": {
      "text/plain": [
       "'Petrol'"
      ]
     },
     "execution_count": 6,
     "metadata": {},
     "output_type": "execute_result"
    }
   ],
   "source": [
    "Nexon.Engine"
   ]
  },
  {
   "cell_type": "code",
   "execution_count": 8,
   "id": "d7031d05-d9df-46fb-8f7b-72837bc0200c",
   "metadata": {},
   "outputs": [],
   "source": [
    "Fortuner=car('White','SUV','Diesel',1200)"
   ]
  },
  {
   "cell_type": "code",
   "execution_count": null,
   "id": "34509a12-8072-4ea4-ae56-87624df16851",
   "metadata": {},
   "outputs": [],
   "source": []
  }
 ],
 "metadata": {
  "kernelspec": {
   "display_name": "Python 3 (ipykernel)",
   "language": "python",
   "name": "python3"
  },
  "language_info": {
   "codemirror_mode": {
    "name": "ipython",
    "version": 3
   },
   "file_extension": ".py",
   "mimetype": "text/x-python",
   "name": "python",
   "nbconvert_exporter": "python",
   "pygments_lexer": "ipython3",
   "version": "3.11.7"
  }
 },
 "nbformat": 4,
 "nbformat_minor": 5
}
