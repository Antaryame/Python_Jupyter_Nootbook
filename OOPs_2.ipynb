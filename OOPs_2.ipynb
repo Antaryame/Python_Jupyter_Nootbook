{
 "cells": [
  {
   "cell_type": "code",
   "execution_count": 1,
   "id": "8a058ce9-3420-4bb0-ac9b-cfe358e7b22d",
   "metadata": {},
   "outputs": [],
   "source": [
    "class House:\n",
    "    def __init__(self,area,bhk,floors):\n",
    "        self.area=area\n",
    "        self.bhk=bhk\n",
    "        self.floors=floors"
   ]
  },
  {
   "cell_type": "code",
   "execution_count": 2,
   "id": "5a91e220-7cba-4eef-b5f6-62999dc4c6ff",
   "metadata": {},
   "outputs": [],
   "source": [
    "manat=House('5000 SQ/FT','5 BHK',2)"
   ]
  },
  {
   "cell_type": "code",
   "execution_count": 3,
   "id": "4ca28fcd-68c9-4dc2-b32d-2b8e217913b6",
   "metadata": {},
   "outputs": [
    {
     "data": {
      "text/plain": [
       "'5000 SQ/FT'"
      ]
     },
     "execution_count": 3,
     "metadata": {},
     "output_type": "execute_result"
    }
   ],
   "source": [
    "manat.area"
   ]
  },
  {
   "cell_type": "code",
   "execution_count": 4,
   "id": "28aae2e0-6c2c-48ad-830e-751e2e63a912",
   "metadata": {},
   "outputs": [
    {
     "data": {
      "text/plain": [
       "'5 BHK'"
      ]
     },
     "execution_count": 4,
     "metadata": {},
     "output_type": "execute_result"
    }
   ],
   "source": [
    "manat.bhk"
   ]
  },
  {
   "cell_type": "code",
   "execution_count": 5,
   "id": "77b7c657-c2df-4e5d-9209-28c328357452",
   "metadata": {},
   "outputs": [
    {
     "data": {
      "text/plain": [
       "2"
      ]
     },
     "execution_count": 5,
     "metadata": {},
     "output_type": "execute_result"
    }
   ],
   "source": [
    "manat.floors"
   ]
  },
  {
   "cell_type": "code",
   "execution_count": 6,
   "id": "d9412968-9b8d-4746-9b0e-62b2b99db60b",
   "metadata": {},
   "outputs": [],
   "source": [
    "class House:\n",
    "    def __init__(self,area,bhk,floors):\n",
    "        self.area=area\n",
    "        self.bhk=bhk\n",
    "        self.floors=floors\n",
    "    def display(self):\n",
    "        print('Area in SQ/FT is ',self.area)\n",
    "        print('BHK is',self.bhk)\n",
    "        print('Floores are',self.floors)"
   ]
  },
  {
   "cell_type": "code",
   "execution_count": 7,
   "id": "068ae070-8509-483c-ad18-2155b8907db1",
   "metadata": {},
   "outputs": [],
   "source": [
    "OM=House(1200,2,3)"
   ]
  },
  {
   "cell_type": "code",
   "execution_count": 8,
   "id": "9a822c3d-9369-4177-8671-c4f3ce804b31",
   "metadata": {},
   "outputs": [
    {
     "name": "stdout",
     "output_type": "stream",
     "text": [
      "Area in SQ/FT is  1200\n",
      "BHK is 2\n",
      "Floores are 3\n"
     ]
    }
   ],
   "source": [
    "OM.display()"
   ]
  },
  {
   "cell_type": "code",
   "execution_count": 11,
   "id": "305dd35a-7733-4cc2-8e1d-944cd65382bb",
   "metadata": {},
   "outputs": [],
   "source": [
    "class House:\n",
    "    def __init__(self,area,bhk,floors):\n",
    "        self.area=area\n",
    "        self.bhk=bhk\n",
    "        self.floors=floors\n",
    "    def lift(self):\n",
    "        print('yes lift is avilable in house')"
   ]
  },
  {
   "cell_type": "code",
   "execution_count": 12,
   "id": "91dec2f8-3cd1-45cc-b14d-64b12d0e4c4f",
   "metadata": {},
   "outputs": [],
   "source": [
    "x=House(1000,1,2)"
   ]
  },
  {
   "cell_type": "code",
   "execution_count": 13,
   "id": "92b810e6-97a6-497d-bf34-9d2004b087b9",
   "metadata": {},
   "outputs": [
    {
     "name": "stdout",
     "output_type": "stream",
     "text": [
      "yes lift is avilable in house\n"
     ]
    }
   ],
   "source": [
    "x.lift()"
   ]
  },
  {
   "cell_type": "markdown",
   "id": "698af57b-059d-48cc-a57c-c2d91ab7829b",
   "metadata": {},
   "source": [
    "# Interview Quation\n",
    "\n",
    "**How to create class ?**\n",
    "**How To pass parameter/Dataset to class ?**\n",
    "**create a class and pass 3 values to class and create object of it ?**"
   ]
  },
  {
   "cell_type": "code",
   "execution_count": 19,
   "id": "56bfb04c-2bd4-4ea8-a476-0fbe5a0a3354",
   "metadata": {},
   "outputs": [],
   "source": [
    "class Car:\n",
    "    def __init__(self,color,Engine,type):\n",
    "        self.color=color #public\n",
    "        self._Engine=Engine #protected\n",
    "        self.__type=type # private\n",
    "        "
   ]
  },
  {
   "cell_type": "code",
   "execution_count": 20,
   "id": "3ccf8d76-e25c-44e2-8255-c757d252d2dd",
   "metadata": {},
   "outputs": [],
   "source": [
    "Nexon=Car('White',1500,'Petrol')"
   ]
  },
  {
   "cell_type": "code",
   "execution_count": 21,
   "id": "b8d4f961-b52b-4c39-9936-54b7d86d1c4c",
   "metadata": {},
   "outputs": [
    {
     "data": {
      "text/plain": [
       "'White'"
      ]
     },
     "execution_count": 21,
     "metadata": {},
     "output_type": "execute_result"
    }
   ],
   "source": [
    "Nexon.color"
   ]
  },
  {
   "cell_type": "code",
   "execution_count": 23,
   "id": "9f21322e-1a85-498c-b9ec-1f4c96e10437",
   "metadata": {},
   "outputs": [
    {
     "data": {
      "text/plain": [
       "1500"
      ]
     },
     "execution_count": 23,
     "metadata": {},
     "output_type": "execute_result"
    }
   ],
   "source": [
    "Nexon._Engine # to acess protected file _ then instance name"
   ]
  },
  {
   "cell_type": "code",
   "execution_count": 24,
   "id": "561a0bea-8872-4f77-8a93-e640c0928a06",
   "metadata": {},
   "outputs": [
    {
     "data": {
      "text/plain": [
       "'Petrol'"
      ]
     },
     "execution_count": 24,
     "metadata": {},
     "output_type": "execute_result"
    }
   ],
   "source": [
    "Nexon._Car__type # to acess private file _ then class name __ instance name"
   ]
  },
  {
   "cell_type": "markdown",
   "id": "c0296702-9696-429b-a16a-c82073c3a632",
   "metadata": {},
   "source": [
    "# Inheritance"
   ]
  },
  {
   "cell_type": "code",
   "execution_count": 25,
   "id": "aa2d2668-2031-447c-a449-6fe058d6cca0",
   "metadata": {},
   "outputs": [],
   "source": [
    "class parent:\n",
    "    def __init__(self,a,b,c):\n",
    "        self.a=a\n",
    "        self.b=b\n",
    "        self.c=c\n",
    "        "
   ]
  },
  {
   "cell_type": "code",
   "execution_count": 27,
   "id": "38304ebf-cea5-4f2d-99d2-a63b68859985",
   "metadata": {},
   "outputs": [],
   "source": [
    "class child(parent):\n",
    "    pass\n",
    "    "
   ]
  },
  {
   "cell_type": "code",
   "execution_count": 28,
   "id": "7802e65d-3189-4fbc-b262-833de3d9eaf5",
   "metadata": {},
   "outputs": [],
   "source": [
    "H= child(1,2,3)"
   ]
  },
  {
   "cell_type": "code",
   "execution_count": 29,
   "id": "0446b0e8-262d-490c-9e56-056f34c55344",
   "metadata": {},
   "outputs": [
    {
     "data": {
      "text/plain": [
       "1"
      ]
     },
     "execution_count": 29,
     "metadata": {},
     "output_type": "execute_result"
    }
   ],
   "source": [
    "H.a"
   ]
  },
  {
   "cell_type": "code",
   "execution_count": 30,
   "id": "7ac76968-57a7-4ce3-9001-a36e40846b84",
   "metadata": {},
   "outputs": [
    {
     "data": {
      "text/plain": [
       "2"
      ]
     },
     "execution_count": 30,
     "metadata": {},
     "output_type": "execute_result"
    }
   ],
   "source": [
    "H.b"
   ]
  },
  {
   "cell_type": "code",
   "execution_count": 31,
   "id": "4efdb4f1-db2c-43b6-946c-b373a7fc072c",
   "metadata": {},
   "outputs": [
    {
     "data": {
      "text/plain": [
       "3"
      ]
     },
     "execution_count": 31,
     "metadata": {},
     "output_type": "execute_result"
    }
   ],
   "source": [
    "H.c"
   ]
  },
  {
   "cell_type": "code",
   "execution_count": 32,
   "id": "bb11cd77-409a-4c95-ab7a-70cb87dd7c15",
   "metadata": {},
   "outputs": [],
   "source": [
    "j=parent(6,7,8)"
   ]
  },
  {
   "cell_type": "code",
   "execution_count": 33,
   "id": "672b4f57-a1f2-4c7f-b337-3c59a8bb4e3e",
   "metadata": {},
   "outputs": [
    {
     "data": {
      "text/plain": [
       "6"
      ]
     },
     "execution_count": 33,
     "metadata": {},
     "output_type": "execute_result"
    }
   ],
   "source": [
    "j.a"
   ]
  },
  {
   "cell_type": "code",
   "execution_count": 34,
   "id": "264c98c3-36fc-402e-b809-d73575272c8a",
   "metadata": {},
   "outputs": [
    {
     "data": {
      "text/plain": [
       "7"
      ]
     },
     "execution_count": 34,
     "metadata": {},
     "output_type": "execute_result"
    }
   ],
   "source": [
    "j.b"
   ]
  },
  {
   "cell_type": "code",
   "execution_count": 35,
   "id": "a6d163ff-a0d8-493e-9267-993718420e35",
   "metadata": {},
   "outputs": [
    {
     "data": {
      "text/plain": [
       "8"
      ]
     },
     "execution_count": 35,
     "metadata": {},
     "output_type": "execute_result"
    }
   ],
   "source": [
    "j.c"
   ]
  },
  {
   "cell_type": "code",
   "execution_count": 37,
   "id": "acf74355-e569-4e19-b842-c698daa40815",
   "metadata": {},
   "outputs": [],
   "source": [
    "class parent:\n",
    "    def __init__(self,a,b,c):\n",
    "        self.a=a\n",
    "        self.b=b\n",
    "        self.c=c"
   ]
  },
  {
   "cell_type": "code",
   "execution_count": 38,
   "id": "d88e67af-3c99-405e-b191-c780d366668d",
   "metadata": {},
   "outputs": [],
   "source": [
    "class child(parent):\n",
    "    def game(self):\n",
    "        print(\"Child can play cricket\")\n",
    "    "
   ]
  },
  {
   "cell_type": "code",
   "execution_count": 39,
   "id": "3cb28312-54bb-4209-99f3-7865682da46c",
   "metadata": {},
   "outputs": [],
   "source": [
    "c1=child(1,2,3)"
   ]
  },
  {
   "cell_type": "code",
   "execution_count": 41,
   "id": "a782c9ae-cfca-4f5d-ad2b-f4f44abcee69",
   "metadata": {},
   "outputs": [
    {
     "name": "stdout",
     "output_type": "stream",
     "text": [
      "Child can play cricket\n"
     ]
    }
   ],
   "source": [
    "c1.game()"
   ]
  },
  {
   "cell_type": "code",
   "execution_count": null,
   "id": "8d1d16d1-55b1-45e0-8427-bfe69f683c5f",
   "metadata": {},
   "outputs": [],
   "source": []
  }
 ],
 "metadata": {
  "kernelspec": {
   "display_name": "Python 3 (ipykernel)",
   "language": "python",
   "name": "python3"
  },
  "language_info": {
   "codemirror_mode": {
    "name": "ipython",
    "version": 3
   },
   "file_extension": ".py",
   "mimetype": "text/x-python",
   "name": "python",
   "nbconvert_exporter": "python",
   "pygments_lexer": "ipython3",
   "version": "3.11.7"
  }
 },
 "nbformat": 4,
 "nbformat_minor": 5
}
