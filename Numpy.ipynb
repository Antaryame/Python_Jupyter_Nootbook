{
 "cells": [
  {
   "cell_type": "code",
   "execution_count": 1,
   "id": "209917ae-36f3-4a45-92d1-4fc3d0ce9fab",
   "metadata": {},
   "outputs": [
    {
     "name": "stdout",
     "output_type": "stream",
     "text": [
      "Requirement already satisfied: numpy in c:\\users\\user\\anaconda3\\lib\\site-packages (1.26.4)\n",
      "Note: you may need to restart the kernel to use updated packages.\n"
     ]
    }
   ],
   "source": [
    "pip install numpy"
   ]
  },
  {
   "cell_type": "code",
   "execution_count": 2,
   "id": "35e661ed-8e1e-4dbc-8182-74571b73bed2",
   "metadata": {},
   "outputs": [],
   "source": [
    "import numpy as np"
   ]
  },
  {
   "cell_type": "code",
   "execution_count": 3,
   "id": "08a062f5-eb4a-4f7d-b266-5b846eb7d598",
   "metadata": {},
   "outputs": [
    {
     "data": {
      "text/plain": [
       "3.0"
      ]
     },
     "execution_count": 3,
     "metadata": {},
     "output_type": "execute_result"
    }
   ],
   "source": [
    "np.mean([1,2,3,4,5])"
   ]
  },
  {
   "cell_type": "code",
   "execution_count": 4,
   "id": "fab3ded9-d0ff-42a4-b1c2-7551ac78597f",
   "metadata": {},
   "outputs": [],
   "source": [
    "t=(1,2,3,4,5)"
   ]
  },
  {
   "cell_type": "code",
   "execution_count": 5,
   "id": "1ff78374-0271-45a7-86d1-9275ca5d9c3c",
   "metadata": {},
   "outputs": [
    {
     "data": {
      "text/plain": [
       "3.0"
      ]
     },
     "execution_count": 5,
     "metadata": {},
     "output_type": "execute_result"
    }
   ],
   "source": [
    "np.mean(t)"
   ]
  },
  {
   "cell_type": "code",
   "execution_count": 6,
   "id": "8df4e01b-cece-4515-b73c-ceb4e6899db3",
   "metadata": {},
   "outputs": [
    {
     "data": {
      "text/plain": [
       "1"
      ]
     },
     "execution_count": 6,
     "metadata": {},
     "output_type": "execute_result"
    }
   ],
   "source": [
    "np.min([1,2,3,4,5])"
   ]
  },
  {
   "cell_type": "code",
   "execution_count": 7,
   "id": "59626424-bcfb-4707-900a-c4bae35ab1cf",
   "metadata": {},
   "outputs": [
    {
     "data": {
      "text/plain": [
       "5"
      ]
     },
     "execution_count": 7,
     "metadata": {},
     "output_type": "execute_result"
    }
   ],
   "source": [
    "np.max([1,2,3,4,5])"
   ]
  },
  {
   "cell_type": "code",
   "execution_count": 8,
   "id": "44e016c0-d36e-447d-9bba-5ccca1f00c53",
   "metadata": {},
   "outputs": [
    {
     "data": {
      "text/plain": [
       "15"
      ]
     },
     "execution_count": 8,
     "metadata": {},
     "output_type": "execute_result"
    }
   ],
   "source": [
    "def sum_fun(*args):\n",
    "    total=0\n",
    "    for i in args:\n",
    "        total+=i\n",
    "\n",
    "    return total\n",
    "\n",
    "sum_fun(1,2,3,4,5)"
   ]
  },
  {
   "cell_type": "code",
   "execution_count": 9,
   "id": "e45605b9-6aa1-441c-b71d-db95596f69e8",
   "metadata": {},
   "outputs": [
    {
     "data": {
      "text/plain": [
       "array([16, 11, 14, 10, 10, 19, 19, 14, 15, 11])"
      ]
     },
     "execution_count": 9,
     "metadata": {},
     "output_type": "execute_result"
    }
   ],
   "source": [
    "np.random.randint(10,20,10)"
   ]
  },
  {
   "cell_type": "code",
   "execution_count": 10,
   "id": "8f5a207b-59b1-49df-bb86-0d66bcf9b598",
   "metadata": {},
   "outputs": [
    {
     "data": {
      "text/plain": [
       "array([14, 18, 11, 17, 16])"
      ]
     },
     "execution_count": 10,
     "metadata": {},
     "output_type": "execute_result"
    }
   ],
   "source": [
    "np.random.randint(10,20,[5])"
   ]
  },
  {
   "cell_type": "code",
   "execution_count": 11,
   "id": "68c1a3d0-9826-45e3-816d-3c427a8d0983",
   "metadata": {},
   "outputs": [],
   "source": [
    "l=[1,2,3,4,5]"
   ]
  },
  {
   "cell_type": "code",
   "execution_count": 12,
   "id": "29f5271b-d49e-4a61-803d-e66cdbe3989e",
   "metadata": {},
   "outputs": [
    {
     "data": {
      "text/plain": [
       "list"
      ]
     },
     "execution_count": 12,
     "metadata": {},
     "output_type": "execute_result"
    }
   ],
   "source": [
    "type(l)"
   ]
  },
  {
   "cell_type": "markdown",
   "id": "039e9a1c-dd63-4d9b-a027-4652188ecd29",
   "metadata": {},
   "source": [
    "1D travel in one direction \n",
    "2D travel in two direction\n",
    "3D travel in three direction"
   ]
  },
  {
   "cell_type": "code",
   "execution_count": 13,
   "id": "d54b48db-f91c-4713-9c31-0a626d70581a",
   "metadata": {},
   "outputs": [],
   "source": [
    "l=np.array(l)"
   ]
  },
  {
   "cell_type": "code",
   "execution_count": 14,
   "id": "cb3a632b-68fe-493b-b0c8-e1c405dff6d1",
   "metadata": {},
   "outputs": [
    {
     "data": {
      "text/plain": [
       "numpy.ndarray"
      ]
     },
     "execution_count": 14,
     "metadata": {},
     "output_type": "execute_result"
    }
   ],
   "source": [
    "type(l)"
   ]
  },
  {
   "cell_type": "code",
   "execution_count": 15,
   "id": "37f055d7-9fad-4267-a6f2-bfdf9b94a94c",
   "metadata": {},
   "outputs": [
    {
     "data": {
      "text/plain": [
       "array([1, 2, 3, 4, 5])"
      ]
     },
     "execution_count": 15,
     "metadata": {},
     "output_type": "execute_result"
    }
   ],
   "source": [
    "l"
   ]
  },
  {
   "cell_type": "code",
   "execution_count": 16,
   "id": "827189a0-b4a2-4ca1-a984-0957f6bc3185",
   "metadata": {},
   "outputs": [
    {
     "data": {
      "text/plain": [
       "1"
      ]
     },
     "execution_count": 16,
     "metadata": {},
     "output_type": "execute_result"
    }
   ],
   "source": [
    "l.ndim"
   ]
  },
  {
   "cell_type": "code",
   "execution_count": 17,
   "id": "244daf62-7b27-4997-b30b-943693bae7fc",
   "metadata": {},
   "outputs": [],
   "source": [
    "a=[[1,2,3],[4,5,6]]"
   ]
  },
  {
   "cell_type": "code",
   "execution_count": 18,
   "id": "401eb462-cb3a-4a96-bcfa-658a1cc035de",
   "metadata": {},
   "outputs": [
    {
     "data": {
      "text/plain": [
       "list"
      ]
     },
     "execution_count": 18,
     "metadata": {},
     "output_type": "execute_result"
    }
   ],
   "source": [
    "type(a)"
   ]
  },
  {
   "cell_type": "code",
   "execution_count": 19,
   "id": "e66d9621-2ad9-47a1-a1cf-33beed02786d",
   "metadata": {},
   "outputs": [],
   "source": [
    "a=np.array(a)"
   ]
  },
  {
   "cell_type": "code",
   "execution_count": 20,
   "id": "329176c8-fc94-494d-8eb3-833c72a4ea1d",
   "metadata": {},
   "outputs": [
    {
     "data": {
      "text/plain": [
       "numpy.ndarray"
      ]
     },
     "execution_count": 20,
     "metadata": {},
     "output_type": "execute_result"
    }
   ],
   "source": [
    "type(a)"
   ]
  },
  {
   "cell_type": "code",
   "execution_count": 21,
   "id": "e9b6e23f-acba-4764-9cfd-ff8b978e211a",
   "metadata": {},
   "outputs": [
    {
     "data": {
      "text/plain": [
       "2"
      ]
     },
     "execution_count": 21,
     "metadata": {},
     "output_type": "execute_result"
    }
   ],
   "source": [
    "a.ndim"
   ]
  },
  {
   "cell_type": "code",
   "execution_count": 22,
   "id": "b891f926-dfdd-4977-93d8-bdb5df6218b1",
   "metadata": {},
   "outputs": [],
   "source": [
    "t=[[[1,2,3],[4,5,6],[7,8,9]]]"
   ]
  },
  {
   "cell_type": "code",
   "execution_count": 23,
   "id": "2d59fad1-e4e6-4b22-a97d-dd2b5d6a7855",
   "metadata": {},
   "outputs": [
    {
     "data": {
      "text/plain": [
       "list"
      ]
     },
     "execution_count": 23,
     "metadata": {},
     "output_type": "execute_result"
    }
   ],
   "source": [
    "type(t)"
   ]
  },
  {
   "cell_type": "code",
   "execution_count": 24,
   "id": "cf0e2bb2-20a5-4456-bdae-1a06db50c077",
   "metadata": {},
   "outputs": [],
   "source": [
    "t=np.array(t)"
   ]
  },
  {
   "cell_type": "code",
   "execution_count": 25,
   "id": "964fa7ac-02ad-467b-be90-947c29a96faf",
   "metadata": {},
   "outputs": [
    {
     "data": {
      "text/plain": [
       "3"
      ]
     },
     "execution_count": 25,
     "metadata": {},
     "output_type": "execute_result"
    }
   ],
   "source": [
    "t.ndim"
   ]
  },
  {
   "cell_type": "code",
   "execution_count": 26,
   "id": "c6e68d18-5016-4e84-bdbc-4286ba553846",
   "metadata": {},
   "outputs": [
    {
     "data": {
      "text/plain": [
       "array([[0.90219983, 0.58927829, 0.38931675],\n",
       "       [0.10219928, 0.67422304, 0.86363417]])"
      ]
     },
     "execution_count": 26,
     "metadata": {},
     "output_type": "execute_result"
    }
   ],
   "source": [
    "np.random.rand(2,3)"
   ]
  },
  {
   "cell_type": "code",
   "execution_count": 27,
   "id": "7ec85af0-1ec2-48d7-87a6-fd5859878ea8",
   "metadata": {},
   "outputs": [
    {
     "data": {
      "text/plain": [
       "array([[[0.2205451 , 0.75225116],\n",
       "        [0.8919297 , 0.955346  ],\n",
       "        [0.9927122 , 0.43078443]],\n",
       "\n",
       "       [[0.12191744, 0.68190412],\n",
       "        [0.88437089, 0.13549327],\n",
       "        [0.37534742, 0.7108098 ]]])"
      ]
     },
     "execution_count": 27,
     "metadata": {},
     "output_type": "execute_result"
    }
   ],
   "source": [
    "np.random.rand(2,3,2)"
   ]
  },
  {
   "cell_type": "code",
   "execution_count": 28,
   "id": "048fa55b-7ffb-47dc-a4ec-d0f7fc79c5aa",
   "metadata": {},
   "outputs": [
    {
     "data": {
      "text/plain": [
       "array([[[[0.31067829, 0.73091033],\n",
       "         [0.89585391, 0.39753633]],\n",
       "\n",
       "        [[0.99858251, 0.83605868],\n",
       "         [0.52634068, 0.59791986]],\n",
       "\n",
       "        [[0.76090635, 0.76220902],\n",
       "         [0.05199949, 0.98075437]]],\n",
       "\n",
       "\n",
       "       [[[0.65041119, 0.84615941],\n",
       "         [0.74542828, 0.35378431]],\n",
       "\n",
       "        [[0.26468216, 0.21472663],\n",
       "         [0.24046763, 0.25783358]],\n",
       "\n",
       "        [[0.09041997, 0.78622227],\n",
       "         [0.42048027, 0.66035762]]]])"
      ]
     },
     "execution_count": 28,
     "metadata": {},
     "output_type": "execute_result"
    }
   ],
   "source": [
    "np.random.rand(2,3,2,2)"
   ]
  },
  {
   "cell_type": "code",
   "execution_count": 29,
   "id": "52870d5c-22af-40e3-a197-ef8d286f58f6",
   "metadata": {},
   "outputs": [
    {
     "data": {
      "text/plain": [
       "array([[9, 0, 1, 1],\n",
       "       [7, 6, 0, 3],\n",
       "       [6, 8, 6, 9],\n",
       "       [7, 7, 9, 0]])"
      ]
     },
     "execution_count": 29,
     "metadata": {},
     "output_type": "execute_result"
    }
   ],
   "source": [
    "np.random.randint(0,10,(4,4))"
   ]
  }
 ],
 "metadata": {
  "kernelspec": {
   "display_name": "Python 3 (ipykernel)",
   "language": "python",
   "name": "python3"
  },
  "language_info": {
   "codemirror_mode": {
    "name": "ipython",
    "version": 3
   },
   "file_extension": ".py",
   "mimetype": "text/x-python",
   "name": "python",
   "nbconvert_exporter": "python",
   "pygments_lexer": "ipython3",
   "version": "3.11.7"
  }
 },
 "nbformat": 4,
 "nbformat_minor": 5
}
