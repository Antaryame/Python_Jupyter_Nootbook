{
 "cells": [
  {
   "cell_type": "code",
   "execution_count": 10,
   "id": "4ae9d5f9-d7fe-4d56-890b-d60bc9f426c2",
   "metadata": {},
   "outputs": [
    {
     "name": "stdout",
     "output_type": "stream",
     "text": [
      "unsupported operand type(s) for +: 'int' and 'str'\n"
     ]
    }
   ],
   "source": [
    "try:\n",
    "    a = 3\n",
    "    b = 'a'\n",
    "    c = a + b\n",
    "    print(c)  \n",
    "    d = c + 5\n",
    "except Exception as e:  \n",
    "    print(e)"
   ]
  },
  {
   "cell_type": "code",
   "execution_count": 8,
   "id": "0473acb6-ff48-4557-b875-638e5d4c23df",
   "metadata": {},
   "outputs": [
    {
     "ename": "ZeroDivisionError",
     "evalue": "division by zero",
     "output_type": "error",
     "traceback": [
      "\u001b[1;31m---------------------------------------------------------------------------\u001b[0m",
      "\u001b[1;31mZeroDivisionError\u001b[0m                         Traceback (most recent call last)",
      "Cell \u001b[1;32mIn[8], line 1\u001b[0m\n\u001b[1;32m----> 1\u001b[0m \u001b[38;5;241m4\u001b[39m\u001b[38;5;241m/\u001b[39m\u001b[38;5;241m0\u001b[39m\n",
      "\u001b[1;31mZeroDivisionError\u001b[0m: division by zero"
     ]
    }
   ],
   "source": [
    "4/0\n"
   ]
  },
  {
   "cell_type": "code",
   "execution_count": 7,
   "id": "432a8b0f-db02-47ab-8c1b-1ca4bdcdbdb6",
   "metadata": {},
   "outputs": [
    {
     "name": "stdin",
     "output_type": "stream",
     "text": [
      "Enter a value 0\n"
     ]
    },
    {
     "name": "stdout",
     "output_type": "stream",
     "text": [
      "division by zero\n"
     ]
    }
   ],
   "source": [
    "try:\n",
    "    num=int(input(\"Enter a value\"))\n",
    "    result=10/num\n",
    "    print(result)\n",
    "\n",
    "except Exception as e:\n",
    "    print(e)\n",
    "    "
   ]
  },
  {
   "cell_type": "code",
   "execution_count": null,
   "id": "4db352e5-8f65-4a76-a5ea-252033f0b7b3",
   "metadata": {},
   "outputs": [],
   "source": [
    "__builtin__."
   ]
  },
  {
   "cell_type": "code",
   "execution_count": 10,
   "id": "2b57eb6f-7691-44ea-ad10-083ab7f7deb6",
   "metadata": {},
   "outputs": [
    {
     "name": "stdin",
     "output_type": "stream",
     "text": [
      "Enter your age dasd\n"
     ]
    },
    {
     "name": "stdout",
     "output_type": "stream",
     "text": [
      "invalid literal for int() with base 10: 'dasd'\n"
     ]
    }
   ],
   "source": [
    "try :\n",
    "    age=int(input(\"Enter your age\"))\n",
    "    print(\"your age is\",age)\n",
    "except Exception as e:\n",
    "    print(e)"
   ]
  },
  {
   "cell_type": "code",
   "execution_count": null,
   "id": "07d9f61c-50d9-460b-85fb-ebe6ce06e135",
   "metadata": {},
   "outputs": [],
   "source": []
  }
 ],
 "metadata": {
  "kernelspec": {
   "display_name": "Python 3 (ipykernel)",
   "language": "python",
   "name": "python3"
  },
  "language_info": {
   "codemirror_mode": {
    "name": "ipython",
    "version": 3
   },
   "file_extension": ".py",
   "mimetype": "text/x-python",
   "name": "python",
   "nbconvert_exporter": "python",
   "pygments_lexer": "ipython3",
   "version": "3.11.7"
  }
 },
 "nbformat": 4,
 "nbformat_minor": 5
}
