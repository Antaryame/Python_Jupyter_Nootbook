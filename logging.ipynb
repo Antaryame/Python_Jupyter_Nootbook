{
 "cells": [
  {
   "cell_type": "code",
   "execution_count": 2,
   "id": "9e052570-2ef5-40eb-9801-107671a5e265",
   "metadata": {},
   "outputs": [
    {
     "ename": "NameError",
     "evalue": "name 'logging' is not defined",
     "output_type": "error",
     "traceback": [
      "\u001b[1;31m---------------------------------------------------------------------------\u001b[0m",
      "\u001b[1;31mNameError\u001b[0m                                 Traceback (most recent call last)",
      "Cell \u001b[1;32mIn[2], line 1\u001b[0m\n\u001b[1;32m----> 1\u001b[0m logging\u001b[38;5;241m.\u001b[39mbasicConfig(filename\u001b[38;5;241m=\u001b[39m\u001b[38;5;124m'\u001b[39m\u001b[38;5;124mtestlog1.log\u001b[39m\u001b[38;5;124m'\u001b[39m,level\u001b[38;5;241m=\u001b[39mlogging\u001b[38;5;241m.\u001b[39mDEBUG,\u001b[38;5;28mformat\u001b[39m\u001b[38;5;241m=\u001b[39m\u001b[38;5;124m'\u001b[39m\u001b[38;5;132;01m%(asctime)s\u001b[39;00m\u001b[38;5;124m \u001b[39m\u001b[38;5;132;01m%(levelname)s\u001b[39;00m\u001b[38;5;124m \u001b[39m\u001b[38;5;132;01m%(message)s\u001b[39;00m\u001b[38;5;124m'\u001b[39m)\n\u001b[0;32m      3\u001b[0m logging\u001b[38;5;241m.\u001b[39minfo(\u001b[38;5;124m'\u001b[39m\u001b[38;5;124mthis is my info\u001b[39m\u001b[38;5;124m'\u001b[39m)\n\u001b[0;32m      4\u001b[0m logging\u001b[38;5;241m.\u001b[39mwarning(\u001b[38;5;124m'\u001b[39m\u001b[38;5;124mthis is my warning log\u001b[39m\u001b[38;5;124m'\u001b[39m)\n",
      "\u001b[1;31mNameError\u001b[0m: name 'logging' is not defined"
     ]
    }
   ],
   "source": [
    "\n",
    "logging.basicConfig(filename='testlog1.log',level=logging.DEBUG,format='%(asctime)s %(levelname)s %(message)s')\n",
    "\n",
    "logging.info('this is my info')\n",
    "logging.warning('this is my warning log')\n",
    "logging.debug('this is my debug log')\n",
    "logging.error('this is my error log')\n",
    "\n",
    "def div(a,b):\n",
    "    logging.info('Enter into division function')\n",
    "\n",
    "    try:\n",
    "        division=a/b\n",
    "        logging.info('sucessfully divided a/b')\n",
    "\n",
    "    except Exception as e:\n",
    "        logging.error('error happen')\n",
    "        logging.exception('Exception occure ' + str(e))\n",
    "\n",
    "div(10,0)"
   ]
  },
  {
   "cell_type": "code",
   "execution_count": 3,
   "id": "4cb80632-b38c-41c2-84c0-8ca09d9c1833",
   "metadata": {},
   "outputs": [
    {
     "name": "stdout",
     "output_type": "stream",
     "text": [
      "5.0\n",
      "None\n"
     ]
    }
   ],
   "source": [
    "import logging \n",
    "logging.basicConfig(filename='testlog2.log',level=logging.DEBUG,format='%(asctime)s %(levelname)s %(message)s')\n",
    "\n",
    "logging.info('this is my info')\n",
    "logging.warning('this is my warning log')\n",
    "logging.debug('this is my debug log')\n",
    "logging.error('this is my error log')\n",
    "def divide(a, b):\n",
    "    try:\n",
    "        result = a / b\n",
    "        logging.info('sucessfully divided a/b')\n",
    "    except Exception as e:\n",
    "        logging.error('error happen')\n",
    "        logging.exception('Exception occure ' + str(e))\n",
    "    else:\n",
    "        logging.info('Enter into else function')\n",
    "\n",
    "        return result\n",
    "\n",
    "print(divide(10, 2))  \n",
    "print(divide(10, 0))  \n"
   ]
  },
  {
   "cell_type": "code",
   "execution_count": 10,
   "id": "7bada641-bf02-46b4-8f94-574b48217fc6",
   "metadata": {},
   "outputs": [
    {
     "name": "stdout",
     "output_type": "stream",
     "text": [
      "123\n",
      "None\n"
     ]
    }
   ],
   "source": [
    "import logging \n",
    "logging.basicConfig(filename='test_log3.log',level=logging.DEBUG,format='%(asctime)s %(levelname)s %(message)s')\n",
    "\n",
    "logging.info('this is my info')\n",
    "logging.warning('this is my warning log')\n",
    "logging.debug('this is my debug log')\n",
    "logging.error('this is my error log')\n",
    "def convert_to_int(value):\n",
    "    try:\n",
    "        logging.info('sucessfully Enter function')\n",
    "\n",
    "        result = int(value)\n",
    "    except Exception as e:\n",
    "        logging.error('error happen')\n",
    "        logging.exception('Exception occure ' + str(e))\n",
    "    else:\n",
    "        logging.info('Enter into else function')\n",
    "        return result\n",
    "\n",
    "print(convert_to_int(\"123\")) \n",
    "print(convert_to_int(\"abc\"))  \n"
   ]
  },
  {
   "cell_type": "code",
   "execution_count": 18,
   "id": "3d9f2c39-bce1-45bb-abf3-986c83374528",
   "metadata": {},
   "outputs": [
    {
     "name": "stdout",
     "output_type": "stream",
     "text": [
      "John\n",
      "None\n"
     ]
    }
   ],
   "source": [
    "import logging \n",
    "logging.basicConfig(filename='testlog8.log',level=logging.DEBUG,format='%(asctime)s %(levelname)s %(message)s')\n",
    "\n",
    "logging.info('this is my info')\n",
    "logging.warning('this is my warning log')\n",
    "logging.debug('this is my debug log')\n",
    "logging.error('this is my error log')\n",
    "def get_value_from_dict(dictionary, key):\n",
    "    try:\n",
    "        logging.info('sucessfully Enter function')\n",
    "\n",
    "        value = dictionary[key]\n",
    "    except Exception as e:\n",
    "        logging.error('error happen')\n",
    "        logging.exception('Exception occure ' + str(e))\n",
    "    else:\n",
    "        logging.info('Enter into else function')\n",
    "\n",
    "        return value\n",
    "\n",
    "sample_dict = {'name': 'John', 'age': 30}\n",
    "print(get_value_from_dict(sample_dict, 'name'))  \n",
    "print(get_value_from_dict(sample_dict, 'address'))  "
   ]
  },
  {
   "cell_type": "code",
   "execution_count": 19,
   "id": "de03a9ba-9b15-4c28-abb0-c5f5e718a176",
   "metadata": {},
   "outputs": [],
   "source": [
    "import logging \n",
    "logging.basicConfig(filename='testlog8.log',level=logging.DEBUG,format='%(asctime)s %(levelname)s %(message)s')"
   ]
  },
  {
   "cell_type": "code",
   "execution_count": null,
   "id": "860a03f3-a5b8-442d-91e2-0cd901c1516f",
   "metadata": {},
   "outputs": [],
   "source": []
  }
 ],
 "metadata": {
  "kernelspec": {
   "display_name": "Python 3 (ipykernel)",
   "language": "python",
   "name": "python3"
  },
  "language_info": {
   "codemirror_mode": {
    "name": "ipython",
    "version": 3
   },
   "file_extension": ".py",
   "mimetype": "text/x-python",
   "name": "python",
   "nbconvert_exporter": "python",
   "pygments_lexer": "ipython3",
   "version": "3.11.7"
  }
 },
 "nbformat": 4,
 "nbformat_minor": 5
}
