{
 "cells": [
  {
   "cell_type": "code",
   "execution_count": 3,
   "id": "04dabe77-9b88-4453-b8c4-7eccc1db6683",
   "metadata": {},
   "outputs": [],
   "source": [
    "def fun(x):\n",
    "    return x*x"
   ]
  },
  {
   "cell_type": "code",
   "execution_count": 4,
   "id": "bf99ec46-5bb7-43bf-b55b-bdc8b3cd5c2a",
   "metadata": {},
   "outputs": [
    {
     "data": {
      "text/plain": [
       "9"
      ]
     },
     "execution_count": 4,
     "metadata": {},
     "output_type": "execute_result"
    }
   ],
   "source": [
    "fun(3)"
   ]
  },
  {
   "cell_type": "code",
   "execution_count": 5,
   "id": "0b705d41-2dad-43c7-86e3-a411e3ef1a1e",
   "metadata": {},
   "outputs": [
    {
     "data": {
      "text/plain": [
       "4"
      ]
     },
     "execution_count": 5,
     "metadata": {},
     "output_type": "execute_result"
    }
   ],
   "source": [
    "def sq(x):\n",
    "    return x ** 2\n",
    "\n",
    "sq(2)"
   ]
  },
  {
   "cell_type": "code",
   "execution_count": null,
   "id": "18ab41ce-f5f1-4eda-9aa4-e00d89f4f365",
   "metadata": {},
   "outputs": [],
   "source": [
    "# Lambda Function"
   ]
  },
  {
   "cell_type": "code",
   "execution_count": 8,
   "id": "aba22fdd-a10c-424f-9874-1c47340a0d25",
   "metadata": {},
   "outputs": [
    {
     "data": {
      "text/plain": [
       "10"
      ]
     },
     "execution_count": 8,
     "metadata": {},
     "output_type": "execute_result"
    }
   ],
   "source": [
    "x= lambda a: a * 2  # leaft side input and right side output\n",
    "\n",
    "x(5)"
   ]
  },
  {
   "cell_type": "code",
   "execution_count": 9,
   "id": "27904797-af06-4f59-8ddf-d08b8394fa11",
   "metadata": {},
   "outputs": [
    {
     "data": {
      "text/plain": [
       "25"
      ]
     },
     "execution_count": 9,
     "metadata": {},
     "output_type": "execute_result"
    }
   ],
   "source": [
    "squre = lambda x:x**2\n",
    "\n",
    "squre(5)"
   ]
  },
  {
   "cell_type": "code",
   "execution_count": 13,
   "id": "0b6fb872-1897-4d83-8fbd-706b3db3ec34",
   "metadata": {},
   "outputs": [
    {
     "data": {
      "text/plain": [
       "(10, 20, 30, 'Data')"
      ]
     },
     "execution_count": 13,
     "metadata": {},
     "output_type": "execute_result"
    }
   ],
   "source": [
    "y= lambda *args : args\n",
    "\n",
    "y(10,20,30,'Data')"
   ]
  },
  {
   "cell_type": "code",
   "execution_count": 24,
   "id": "502b323d-5fcb-4d9c-9751-a90bfc1e9a89",
   "metadata": {},
   "outputs": [
    {
     "data": {
      "text/plain": [
       "{'a': 2, 'b': 3, 'c': 4, 'd': 5}"
      ]
     },
     "execution_count": 24,
     "metadata": {},
     "output_type": "execute_result"
    }
   ],
   "source": [
    "x= lambda **kwargs : kwargs\n",
    "x(a=2,b=3,c=4,d=5)"
   ]
  },
  {
   "cell_type": "code",
   "execution_count": 15,
   "id": "2f0d73e1-a70d-49e0-acaa-6c21d4a33721",
   "metadata": {},
   "outputs": [
    {
     "data": {
      "text/plain": [
       "(3, 2)"
      ]
     },
     "execution_count": 15,
     "metadata": {},
     "output_type": "execute_result"
    }
   ],
   "source": [
    "x= lambda a,b:(a+b,a*b)\n",
    "x(1,2)"
   ]
  },
  {
   "cell_type": "code",
   "execution_count": null,
   "id": "a6f1ee29-cd6c-4add-823d-1dac5ea2dd94",
   "metadata": {},
   "outputs": [],
   "source": []
  },
  {
   "cell_type": "code",
   "execution_count": 18,
   "id": "b3aff404-447b-44a3-ae7d-8e9ec168f586",
   "metadata": {},
   "outputs": [
    {
     "data": {
      "text/plain": [
       "[1, 2, 3, 4, 5, 6]"
      ]
     },
     "execution_count": 18,
     "metadata": {},
     "output_type": "execute_result"
    }
   ],
   "source": [
    "l=[1,2,3,4,5,6]\n",
    "x = lambda a:[i for i in a]\n",
    "x(l)"
   ]
  },
  {
   "cell_type": "code",
   "execution_count": 26,
   "id": "c356a9e2-1c70-48c7-9eb7-f56705514241",
   "metadata": {},
   "outputs": [
    {
     "data": {
      "text/plain": [
       "[10, 20, 30]"
      ]
     },
     "execution_count": 26,
     "metadata": {},
     "output_type": "execute_result"
    }
   ],
   "source": [
    "x= lambda *args : [i for i in args if type(i)==int]\n",
    "\n",
    "x(10,20,30,'Data')"
   ]
  },
  {
   "cell_type": "code",
   "execution_count": 27,
   "id": "464c4b4d-dcff-45d1-bbc5-ba6fc0c1b4b2",
   "metadata": {},
   "outputs": [
    {
     "data": {
      "text/plain": [
       "[[10, 20, 30]]"
      ]
     },
     "execution_count": 27,
     "metadata": {},
     "output_type": "execute_result"
    }
   ],
   "source": [
    "x= lambda *args : [i for i in args if type(i)==list]\n",
    "x([10,20,30],10,20,30,'Data')"
   ]
  },
  {
   "cell_type": "code",
   "execution_count": null,
   "id": "1783134f-c564-465f-b722-b2517fb37379",
   "metadata": {},
   "outputs": [],
   "source": []
  }
 ],
 "metadata": {
  "kernelspec": {
   "display_name": "Python 3 (ipykernel)",
   "language": "python",
   "name": "python3"
  },
  "language_info": {
   "codemirror_mode": {
    "name": "ipython",
    "version": 3
   },
   "file_extension": ".py",
   "mimetype": "text/x-python",
   "name": "python",
   "nbconvert_exporter": "python",
   "pygments_lexer": "ipython3",
   "version": "3.11.7"
  }
 },
 "nbformat": 4,
 "nbformat_minor": 5
}
